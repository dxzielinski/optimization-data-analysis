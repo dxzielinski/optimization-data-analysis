{
 "cells": [
  {
   "cell_type": "code",
   "execution_count": 1,
   "id": "d8342a4e",
   "metadata": {},
   "outputs": [
    {
     "name": "stderr",
     "output_type": "stream",
     "text": [
      "Seed set to 42\n"
     ]
    },
    {
     "name": "stdout",
     "output_type": "stream",
     "text": [
      "Using device: cuda\n"
     ]
    }
   ],
   "source": [
    "import os\n",
    "import sys\n",
    "\n",
    "project_root = os.path.abspath(os.path.join(os.getcwd(), \"..\"))\n",
    "if project_root not in sys.path:\n",
    "    sys.path.append(project_root)\n",
    "\n",
    "import torch\n",
    "import torchvision\n",
    "import torchvision.datasets as datasets\n",
    "import torchvision.transforms as transforms\n",
    "from lit_modules.densenet_lit import DenseNetLit\n",
    "import lightning as L\n",
    "from lightning.pytorch.callbacks import ModelCheckpoint\n",
    "from lightning.pytorch.loggers import MLFlowLogger\n",
    "\n",
    "L.seed_everything(42)\n",
    "torch.set_float32_matmul_precision(\"medium\")\n",
    "device = torch.device(\"cuda\" if torch.cuda.is_available() else \"cpu\")\n",
    "print(\"Using device:\", device)\n",
    "torch.cuda.empty_cache()"
   ]
  },
  {
   "cell_type": "code",
   "execution_count": 2,
   "id": "4072ff4d",
   "metadata": {},
   "outputs": [],
   "source": [
    "IMAGE_SIZE = 32\n",
    "mean, std = [0.485, 0.456, 0.406], [0.229, 0.224, 0.225]\n",
    "# source: https://pytorch.org/vision/stable/transforms.html\n",
    "transforms_train = transforms.Compose(\n",
    "    [\n",
    "        transforms.Resize((IMAGE_SIZE, IMAGE_SIZE)),\n",
    "        transforms.ToTensor(),\n",
    "        transforms.Normalize(mean, std),\n",
    "    ]\n",
    ")\n",
    "transforms_test = transforms.Compose(\n",
    "    [\n",
    "        transforms.Resize((IMAGE_SIZE, IMAGE_SIZE)),\n",
    "        transforms.ToTensor(),\n",
    "        transforms.Normalize(mean, std),\n",
    "    ]\n",
    ")\n",
    "whole_dataset = datasets.EuroSAT(\n",
    "    root=\"./data\", download=True, transform=transforms_train\n",
    ")\n",
    "N = len(whole_dataset)\n",
    "num_val = int(0.2 * N)\n",
    "num_test = int(0.2 * N)\n",
    "num_train = N - num_val - num_test\n",
    "all_indices = list(range(N))\n",
    "all_indices = torch.randperm(N).tolist()\n",
    "indices_val = torch.randperm(N)[:num_val]\n",
    "indices_test = torch.randperm(N)[:num_test]\n",
    "train_indices = all_indices[:num_train]\n",
    "val_indices = all_indices[num_train : num_train + num_val]\n",
    "test_indices = all_indices[num_train + num_val : num_train + num_val + num_test]\n",
    "\n",
    "train_dataset = torch.utils.data.Subset(whole_dataset, train_indices)\n",
    "validation_dataset = torch.utils.data.Subset(whole_dataset, val_indices)\n",
    "test_dataset = torch.utils.data.Subset(whole_dataset, test_indices)\n",
    "\n",
    "train_loader = torch.utils.data.DataLoader(\n",
    "    dataset=train_dataset,\n",
    "    batch_size=512,\n",
    "    num_workers=30,\n",
    "    persistent_workers=True,\n",
    ")\n",
    "validation_loader = torch.utils.data.DataLoader(\n",
    "    dataset=validation_dataset, batch_size=512, num_workers=30, persistent_workers=True\n",
    ")\n",
    "test_loader = torch.utils.data.DataLoader(\n",
    "    dataset=test_dataset, batch_size=512, num_workers=30, persistent_workers=True\n",
    ")"
   ]
  },
  {
   "cell_type": "code",
   "execution_count": 3,
   "id": "373cb375",
   "metadata": {},
   "outputs": [
    {
     "name": "stderr",
     "output_type": "stream",
     "text": [
      "Clipping input data to the valid range for imshow with RGB data ([0..1] for floats or [0..255] for integers). Got range [-1.7754089..2.4831376].\n"
     ]
    },
    {
     "data": {
      "image/png": "[encoded data removed]",
      "text/plain": [
       "<Figure size 640x480 with 1 Axes>"
      ]
     },
     "metadata": {},
     "output_type": "display_data"
    }
   ],
   "source": [
    "import matplotlib.pyplot as plt\n",
    "import numpy as np\n",
    "\n",
    "\n",
    "def show_img(img):\n",
    "    npimg = img.numpy()\n",
    "    plt.imshow(np.transpose(npimg, (1, 2, 0)))\n",
    "    plt.show()\n",
    "\n",
    "\n",
    "images, labels = next(iter(train_loader))\n",
    "show_img(torchvision.utils.make_grid(images[:8], nrow=4, padding=2))"
   ]
  },
  {
   "cell_type": "code",
   "execution_count": 4,
   "id": "2ae9c98a",
   "metadata": {},
   "outputs": [
    {
     "name": "stderr",
     "output_type": "stream",
     "text": [
      "Using 16bit Automatic Mixed Precision (AMP)\n",
      "GPU available: True (cuda), used: True\n",
      "TPU available: False, using: 0 TPU cores\n",
      "HPU available: False, using: 0 HPUs\n",
      "/home/dxzielinski/Desktop/github-repositories/optimization-data-analysis/.venv/lib/python3.12/site-packages/lightning/pytorch/callbacks/model_checkpoint.py:654: Checkpoint directory /home/dxzielinski/Desktop/github-repositories/optimization-data-analysis/model_training_notebooks/checkpoints/densenet-eurosat exists and is not empty.\n",
      "LOCAL_RANK: 0 - CUDA_VISIBLE_DEVICES: [0]\n",
      "Loading `train_dataloader` to estimate number of stepping batches.\n",
      "/home/dxzielinski/Desktop/github-repositories/optimization-data-analysis/.venv/lib/python3.12/site-packages/lightning/pytorch/loops/fit_loop.py:310: The number of training batches (32) is smaller than the logging interval Trainer(log_every_n_steps=50). Set a lower value for log_every_n_steps if you want to see logs for the training epoch.\n",
      "\n",
      "  | Name          | Type             | Params | Mode \n",
      "-----------------------------------------------------------\n",
      "0 | model         | DenseNet         | 1.0 M  | train\n",
      "1 | loss_fn       | CrossEntropyLoss | 0      | train\n",
      "2 | train_metrics | MetricCollection | 0      | train\n",
      "3 | val_metrics   | MetricCollection | 0      | train\n",
      "4 | test_metrics  | MetricCollection | 0      | train\n",
      "-----------------------------------------------------------\n",
      "1.0 M     Trainable params\n",
      "0         Non-trainable params\n",
      "1.0 M     Total params\n",
      "4.079     Total estimated model params size (MB)\n",
      "256       Modules in train mode\n",
      "0         Modules in eval mode\n"
     ]
    },
    {
     "name": "stdout",
     "output_type": "stream",
     "text": [
      "Epoch 49: 100%|██████████| 32/32 [00:11<00:00,  2.78it/s, v_num=99d0]"
     ]
    },
    {
     "name": "stderr",
     "output_type": "stream",
     "text": [
      "`Trainer.fit` stopped: `max_epochs=50` reached.\n"
     ]
    },
    {
     "name": "stdout",
     "output_type": "stream",
     "text": [
      "Epoch 49: 100%|██████████| 32/32 [00:11<00:00,  2.77it/s, v_num=99d0]\n"
     ]
    }
   ],
   "source": [
    "class DataModule(L.LightningDataModule):\n",
    "    def __init__(self, train_loader, validation_loader, test_loader):\n",
    "        super().__init__()\n",
    "        self.train_loader = train_loader\n",
    "        self.validation_loader = validation_loader\n",
    "        self.test_loader = test_loader\n",
    "\n",
    "    def train_dataloader(self):\n",
    "        return self.train_loader\n",
    "\n",
    "    def val_dataloader(self):\n",
    "        return self.validation_loader\n",
    "\n",
    "    def test_dataloader(self):\n",
    "        return self.test_loader\n",
    "\n",
    "\n",
    "class DenseNetLit(DenseNetLit):\n",
    "    def configure_optimizers(self):\n",
    "        optimizer = torch.optim.SGD(\n",
    "            self.model.parameters(),\n",
    "            lr=0.1,\n",
    "            weight_decay=10e-4,\n",
    "            momentum=0.9,\n",
    "        )\n",
    "        total_steps = self.trainer.estimated_stepping_batches\n",
    "        scheduler = torch.optim.lr_scheduler.OneCycleLR(\n",
    "            optimizer=optimizer,\n",
    "            max_lr=1.0,\n",
    "            total_steps=total_steps,\n",
    "            div_factor=10,\n",
    "            final_div_factor=23,\n",
    "        )\n",
    "        return {\n",
    "            \"optimizer\": optimizer,\n",
    "            \"lr_scheduler\": {\n",
    "                \"scheduler\": scheduler,\n",
    "                \"interval\": \"step\",\n",
    "                \"frequency\": 1,\n",
    "                \"strict\": False,\n",
    "            },\n",
    "        }\n",
    "\n",
    "\n",
    "data = DataModule(train_loader, validation_loader, test_loader)\n",
    "hyperparameters = {\n",
    "    \"depth\": 40,\n",
    "    \"first_output\": 16,\n",
    "    \"growth_rate\": 12,\n",
    "    \"dropout\": 0.2,\n",
    "}\n",
    "model = DenseNetLit(hyperparameters=hyperparameters)\n",
    "logger = MLFlowLogger(experiment_name=\"Densenet-EuroSat\", save_dir=\"mlruns\")\n",
    "trainer = L.Trainer(\n",
    "    max_epochs=50,\n",
    "    logger=logger,\n",
    "    callbacks=[\n",
    "        ModelCheckpoint(\n",
    "            monitor=\"val_accuracy\",\n",
    "            mode=\"max\",\n",
    "            dirpath=\"checkpoints/densenet-eurosat\",\n",
    "            filename=\"{epoch:02d}-{val_accuracy:.3f}\",\n",
    "        )\n",
    "    ],\n",
    "    precision=\"16-mixed\",\n",
    "    num_sanity_val_steps=0,\n",
    ")\n",
    "trainer.fit(model, datamodule=data)"
   ]
  },
  {
   "cell_type": "code",
   "execution_count": 5,
   "id": "b4d85e14",
   "metadata": {},
   "outputs": [
    {
     "name": "stderr",
     "output_type": "stream",
     "text": [
      "Restoring states from the checkpoint path at /home/dxzielinski/Desktop/github-repositories/optimization-data-analysis/model_training_notebooks/checkpoints/densenet-eurosat/epoch=48-val_acc=0.000.ckpt\n",
      "LOCAL_RANK: 0 - CUDA_VISIBLE_DEVICES: [0]\n",
      "Loaded model weights from the checkpoint at /home/dxzielinski/Desktop/github-repositories/optimization-data-analysis/model_training_notebooks/checkpoints/densenet-eurosat/epoch=48-val_acc=0.000.ckpt\n"
     ]
    },
    {
     "name": "stdout",
     "output_type": "stream",
     "text": [
      "Testing DataLoader 0: 100%|██████████| 11/11 [00:01<00:00,  9.93it/s]\n",
      "────────────────────────────────────────────────────────────────────────────────────────────────────────────────────────\n",
      "       Test metric             DataLoader 0\n",
      "────────────────────────────────────────────────────────────────────────────────────────────────────────────────────────\n",
      "      test_accuracy         0.8849999904632568\n",
      "       test_auroc            0.993626594543457\n",
      "      test_f1_macro         0.8816047310829163\n",
      "     test_precision         0.8914507627487183\n",
      "       test_recall          0.8775404691696167\n",
      "────────────────────────────────────────────────────────────────────────────────────────────────────────────────────────\n"
     ]
    }
   ],
   "source": [
    "best_ckpt = trainer.checkpoint_callback.best_model_path\n",
    "trainer.test(model, datamodule=data, ckpt_path=best_ckpt)\n",
    "None"
   ]
  },
  {
   "cell_type": "code",
   "execution_count": 7,
   "id": "ce9ba40d",
   "metadata": {},
   "outputs": [],
   "source": [
    "# save test_indices to .txt file\n",
    "with open(\"../test_indices.txt\", \"w\") as f:\n",
    "    for idx in test_indices:\n",
    "        f.write(f\"{idx}\\n\")"
   ]
  }
 ],
 "metadata": {
  "kernelspec": {
   "display_name": ".venv",
   "language": "python",
   "name": "python3"
  },
  "language_info": {
   "codemirror_mode": {
    "name": "ipython",
    "version": 3
   },
   "file_extension": ".py",
   "mimetype": "text/x-python",
   "name": "python",
   "nbconvert_exporter": "python",
   "pygments_lexer": "ipython3",
   "version": "3.12.3"
  }
 },
 "nbformat": 4,
 "nbformat_minor": 5
}
